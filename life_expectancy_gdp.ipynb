{
 "cells": [
  {
   "cell_type": "markdown",
   "metadata": {},
   "source": [
    "# <font color = 'blue'> Life Expectancy and GDP"
   ]
  },
  {
   "cell_type": "markdown",
   "metadata": {},
   "source": [
    "## 1. Project Goal\n",
    "\n",
    "The this project, I will analyze data on GDP and life expectancy from the World Health Organization and the World Bank to try and identify the relationship between the GDP and life expectancy of six countries! "
   ]
  },
  {
   "cell_type": "code",
   "execution_count": 1,
   "metadata": {},
   "outputs": [],
   "source": [
    "#import modules \n",
    "import pandas as pd\n",
    "import numpy as np\n",
    "from matplotlib import pyplot as plt\n",
    "import seaborn as sns\n",
    "from scipy import stats"
   ]
  },
  {
   "cell_type": "markdown",
   "metadata": {},
   "source": [
    "## 2. The Dataset\n",
    "I will be exploring the dataset to discover any clues that can lead to interesting anlysis"
   ]
  },
  {
   "cell_type": "code",
   "execution_count": 2,
   "metadata": {
    "scrolled": false
   },
   "outputs": [
    {
     "data": {
      "text/html": [
       "<div>\n",
       "<style scoped>\n",
       "    .dataframe tbody tr th:only-of-type {\n",
       "        vertical-align: middle;\n",
       "    }\n",
       "\n",
       "    .dataframe tbody tr th {\n",
       "        vertical-align: top;\n",
       "    }\n",
       "\n",
       "    .dataframe thead th {\n",
       "        text-align: right;\n",
       "    }\n",
       "</style>\n",
       "<table border=\"1\" class=\"dataframe\">\n",
       "  <thead>\n",
       "    <tr style=\"text-align: right;\">\n",
       "      <th></th>\n",
       "      <th>Country</th>\n",
       "      <th>Year</th>\n",
       "      <th>Life expectancy at birth (years)</th>\n",
       "      <th>GDP</th>\n",
       "    </tr>\n",
       "  </thead>\n",
       "  <tbody>\n",
       "    <tr>\n",
       "      <th>0</th>\n",
       "      <td>Chile</td>\n",
       "      <td>2000</td>\n",
       "      <td>77.3</td>\n",
       "      <td>7.786093e+10</td>\n",
       "    </tr>\n",
       "    <tr>\n",
       "      <th>1</th>\n",
       "      <td>Chile</td>\n",
       "      <td>2001</td>\n",
       "      <td>77.3</td>\n",
       "      <td>7.097992e+10</td>\n",
       "    </tr>\n",
       "    <tr>\n",
       "      <th>2</th>\n",
       "      <td>Chile</td>\n",
       "      <td>2002</td>\n",
       "      <td>77.8</td>\n",
       "      <td>6.973681e+10</td>\n",
       "    </tr>\n",
       "    <tr>\n",
       "      <th>3</th>\n",
       "      <td>Chile</td>\n",
       "      <td>2003</td>\n",
       "      <td>77.9</td>\n",
       "      <td>7.564346e+10</td>\n",
       "    </tr>\n",
       "    <tr>\n",
       "      <th>4</th>\n",
       "      <td>Chile</td>\n",
       "      <td>2004</td>\n",
       "      <td>78.0</td>\n",
       "      <td>9.921039e+10</td>\n",
       "    </tr>\n",
       "    <tr>\n",
       "      <th>...</th>\n",
       "      <td>...</td>\n",
       "      <td>...</td>\n",
       "      <td>...</td>\n",
       "      <td>...</td>\n",
       "    </tr>\n",
       "    <tr>\n",
       "      <th>91</th>\n",
       "      <td>Zimbabwe</td>\n",
       "      <td>2011</td>\n",
       "      <td>54.9</td>\n",
       "      <td>1.209845e+10</td>\n",
       "    </tr>\n",
       "    <tr>\n",
       "      <th>92</th>\n",
       "      <td>Zimbabwe</td>\n",
       "      <td>2012</td>\n",
       "      <td>56.6</td>\n",
       "      <td>1.424249e+10</td>\n",
       "    </tr>\n",
       "    <tr>\n",
       "      <th>93</th>\n",
       "      <td>Zimbabwe</td>\n",
       "      <td>2013</td>\n",
       "      <td>58.0</td>\n",
       "      <td>1.545177e+10</td>\n",
       "    </tr>\n",
       "    <tr>\n",
       "      <th>94</th>\n",
       "      <td>Zimbabwe</td>\n",
       "      <td>2014</td>\n",
       "      <td>59.2</td>\n",
       "      <td>1.589105e+10</td>\n",
       "    </tr>\n",
       "    <tr>\n",
       "      <th>95</th>\n",
       "      <td>Zimbabwe</td>\n",
       "      <td>2015</td>\n",
       "      <td>60.7</td>\n",
       "      <td>1.630467e+10</td>\n",
       "    </tr>\n",
       "  </tbody>\n",
       "</table>\n",
       "<p>96 rows × 4 columns</p>\n",
       "</div>"
      ],
      "text/plain": [
       "     Country  Year  Life expectancy at birth (years)           GDP\n",
       "0      Chile  2000                              77.3  7.786093e+10\n",
       "1      Chile  2001                              77.3  7.097992e+10\n",
       "2      Chile  2002                              77.8  6.973681e+10\n",
       "3      Chile  2003                              77.9  7.564346e+10\n",
       "4      Chile  2004                              78.0  9.921039e+10\n",
       "..       ...   ...                               ...           ...\n",
       "91  Zimbabwe  2011                              54.9  1.209845e+10\n",
       "92  Zimbabwe  2012                              56.6  1.424249e+10\n",
       "93  Zimbabwe  2013                              58.0  1.545177e+10\n",
       "94  Zimbabwe  2014                              59.2  1.589105e+10\n",
       "95  Zimbabwe  2015                              60.7  1.630467e+10\n",
       "\n",
       "[96 rows x 4 columns]"
      ]
     },
     "execution_count": 2,
     "metadata": {},
     "output_type": "execute_result"
    }
   ],
   "source": [
    "#import the dataset into a dateframe\n",
    "life_gdp = pd.read_csv('all_data.csv')\n",
    "\n",
    "#display the dataset\n",
    "life_gdp"
   ]
  },
  {
   "cell_type": "markdown",
   "metadata": {},
   "source": [
    "Let's look into each column \n",
    "\n",
    "### a. Country"
   ]
  },
  {
   "cell_type": "code",
   "execution_count": 3,
   "metadata": {},
   "outputs": [
    {
     "name": "stdout",
     "output_type": "stream",
     "text": [
      "There are six countries: ['Chile' 'China' 'Germany' 'Mexico' 'United States of America' 'Zimbabwe']\n"
     ]
    }
   ],
   "source": [
    "#find unique values of the column: Country\n",
    "countries = life_gdp['Country'].unique()\n",
    "print('There are six countries: {}'.format(countries))"
   ]
  },
  {
   "cell_type": "markdown",
   "metadata": {},
   "source": [
    "### b. Year"
   ]
  },
  {
   "cell_type": "code",
   "execution_count": 4,
   "metadata": {},
   "outputs": [
    {
     "name": "stdout",
     "output_type": "stream",
     "text": [
      "The dataset ranges from 2000 to 2015\n"
     ]
    }
   ],
   "source": [
    "#find unique values of the columns: Year\n",
    "year = life_gdp['Year'].unique()\n",
    "print('The dataset ranges from {} to {}'.format(year[0],year[-1]))"
   ]
  },
  {
   "cell_type": "markdown",
   "metadata": {},
   "source": [
    "## c. Life expectancy at birth (years)"
   ]
  },
  {
   "cell_type": "code",
   "execution_count": 5,
   "metadata": {},
   "outputs": [
    {
     "ename": "SyntaxError",
     "evalue": "invalid syntax (<ipython-input-5-7f581a7af34e>, line 2)",
     "output_type": "error",
     "traceback": [
      "\u001b[0;36m  File \u001b[0;32m\"<ipython-input-5-7f581a7af34e>\"\u001b[0;36m, line \u001b[0;32m2\u001b[0m\n\u001b[0;31m    life_gdp.['Life expectancy at birth (years)']\u001b[0m\n\u001b[0m             ^\u001b[0m\n\u001b[0;31mSyntaxError\u001b[0m\u001b[0;31m:\u001b[0m invalid syntax\n"
     ]
    }
   ],
   "source": [
    "#display the life expectancy column\n",
    "life_gdp.['Life expectancy at birth (years)']\n",
    "print('It is pretty hard to type the column name correctly. I will rename it ')"
   ]
  },
  {
   "cell_type": "code",
   "execution_count": null,
   "metadata": {},
   "outputs": [],
   "source": [
    "#rename the column for life expectancy\n",
    "life_gdp.rename(columns = {\"Life expectancy at birth (years)\" : 'Life_expectancy'},inplace = True)"
   ]
  },
  {
   "cell_type": "code",
   "execution_count": null,
   "metadata": {},
   "outputs": [],
   "source": [
    "#disply the column to make sure the change was made correctly\n",
    "life_gdp['Life_expectancy']"
   ]
  },
  {
   "cell_type": "markdown",
   "metadata": {},
   "source": [
    "### d. GDP"
   ]
  },
  {
   "cell_type": "code",
   "execution_count": null,
   "metadata": {},
   "outputs": [],
   "source": [
    "#disply GDP\n",
    "life_gdp['GDP']"
   ]
  },
  {
   "cell_type": "markdown",
   "metadata": {},
   "source": [
    "I would like to change GDP in scientific number format to integer format"
   ]
  },
  {
   "cell_type": "code",
   "execution_count": null,
   "metadata": {},
   "outputs": [],
   "source": [
    "#cast a panda object to integer \n",
    "life_gdp['GDP'] = life_gdp['GDP'].astype(int)"
   ]
  },
  {
   "cell_type": "markdown",
   "metadata": {},
   "source": [
    "# 3. Exploratory Analysis "
   ]
  },
  {
   "cell_type": "markdown",
   "metadata": {},
   "source": [
    "## a. Line charts of Chile to see if there's any relationships between the life expectancy & GDP\n",
    "\n",
    "Before plotting or analyzing six coutries' data, I would like to work with one country's data first to get a sense of what I will deal with. Chile data was chosen. I will plot Year vs GDP and Year vs Life expectancy for Chile. "
   ]
  },
  {
   "cell_type": "code",
   "execution_count": null,
   "metadata": {},
   "outputs": [],
   "source": [
    "#Select the row where the country is Chile\n",
    "chile = life_gdp[life_gdp['Country'] == 'Chile']"
   ]
  },
  {
   "cell_type": "code",
   "execution_count": null,
   "metadata": {},
   "outputs": [],
   "source": [
    "#print chile\n",
    "chile"
   ]
  },
  {
   "cell_type": "code",
   "execution_count": null,
   "metadata": {},
   "outputs": [],
   "source": [
    "# get GDP in billions\n",
    "chile['GDP'] = chile['GDP']/1e9"
   ]
  },
  {
   "cell_type": "code",
   "execution_count": null,
   "metadata": {},
   "outputs": [],
   "source": [
    "chile"
   ]
  },
  {
   "cell_type": "code",
   "execution_count": null,
   "metadata": {
    "scrolled": false
   },
   "outputs": [],
   "source": [
    "#plot Year against Life Expectancy for Chile\n",
    "f,ax = plt.subplots(figsize = (10,7))\n",
    "sns.lineplot(x = 'Year',y = 'Life_expectancy',data=chile,color='blue',marker='o')\n",
    "sns.set_context('talk')\n",
    "ax.set_ylabel('Life Expectancy',fontweight='semibold',color='black')\n",
    "ax.set_title('Year vs Life Expectancy - Chile',fontsize=30,fontweight='semibold',color='black')\n",
    "ax.set_xlabel('Year',fontweight='semibold',color='black')\n",
    "\n"
   ]
  },
  {
   "cell_type": "code",
   "execution_count": null,
   "metadata": {
    "scrolled": false
   },
   "outputs": [],
   "source": [
    "#plot Year against GDP for Chile\n",
    "f,ax = plt.subplots(figsize = (10,7))\n",
    "sns.lineplot(x= 'Year',y='GDP',data=chile,color='red',marker='o')\n",
    "sns.set_context('talk')\n",
    "ax.set_ylabel('GDP',fontweight='semibold',color='black')\n",
    "ax.set_title('Year vs GDP - Chile',fontsize=30,fontweight='semibold',color='black')\n",
    "ax.set_xlabel('Year',fontweight='semibold',color='black')\n"
   ]
  },
  {
   "cell_type": "markdown",
   "metadata": {},
   "source": [
    "### I would like to carete a combo chart that displays the two line graphs on the same x-axis. Then , we will see if there's any patterns."
   ]
  },
  {
   "cell_type": "code",
   "execution_count": null,
   "metadata": {},
   "outputs": [],
   "source": [
    "#create combo chart\n",
    "fig,ax1 = plt.subplots(figsize = (10,7))\n",
    "color = 'tab:blue'\n",
    "#create the first line graph\n",
    "sns.set_style('ticks')\n",
    "sns.set_context('talk')\n",
    "ax1.set_title('Chile: Life Expectancy and GDP by Year',fontsize =25)\n",
    "ax1.set_xlabel('Year',fontsize=20)\n",
    "ax1.set_ylabel('Life Expectancy',fontsize=20)\n",
    "ax1 = sns.lineplot(x='Year',y='Life_expectancy',data = chile,color = 'blue',marker = 'o')\n",
    "ax1.tick_params(axis='y',color=color)\n",
    "plt.text(2015.3,80.45,'Life Expectancy',color='blue')\n",
    "plt.text(2015.3,79.88,'GDP',color = 'red')\n",
    "#specify we want to share the x-axis\n",
    "ax2 = ax1.twinx()\n",
    "color = 'tab:red'\n",
    "#create the second line graph\n",
    "ax2.set_ylabel('GDP',fontsize=20)\n",
    "ax2 = sns.lineplot(x='Year',y='GDP',data=chile,color='red',marker = 'o')\n",
    "ax2.tick_params(axis='y', color=color)\n",
    "\n",
    "sns.despine(right=True,left = True)\n",
    "\n"
   ]
  },
  {
   "cell_type": "markdown",
   "metadata": {},
   "source": [
    "Conclusion: <br>\n",
    "The combo graph indicates that GDP and life expectancy move upward at a similiar rate. As the GDP increases, the life expectancy increase. "
   ]
  },
  {
   "cell_type": "markdown",
   "metadata": {},
   "source": [
    "##  b. scatter plot with a regression line  of Chile "
   ]
  },
  {
   "cell_type": "markdown",
   "metadata": {},
   "source": [
    "As can be seen in the above graph, there is a positive correlation between GDP and life expectancy. In order to obtain statistical credibility on linearity, I would like to draw a linear equation between them. $r^2$ and p-value will be computed to see if its linearity is statistically significant."
   ]
  },
  {
   "cell_type": "code",
   "execution_count": null,
   "metadata": {},
   "outputs": [],
   "source": [
    "#linear regression equation between GDP and Life expectancy for Chile\n",
    "slope, intercept, r_value,p_value,std_err = stats.linregress(chile.GDP,chile.Life_expectancy)\n",
    "\n",
    "#create text variables for linear equation, r and p-value\n",
    "line_equation = f'y= {slope}x + {intercept:.0f}'\n",
    "r_p_value = f\"\"\"P value = {p_value} \n",
    "R squared = {r_value**2}\"\"\"\n",
    "\n",
    "#textbox properties\n",
    "box1 = dict(boxstyle='round', facecolor='white', alpha=1)\n",
    "box2 = dict(boxstyle='round', facecolor='whitesmoke', alpha=.5)\n",
    "\n",
    "\n",
    "graph = sns.lmplot(data=chile,x='GDP',y='Life_expectancy',height = 8,aspect = 1.2,scatter_kws = {'color':'black'},line_kws = {'color':'pink'})\n",
    "plt.ylabel('Life Expectancy',fontweight='semibold',color='black')\n",
    "plt.title('GDP vs Life expectancy - Chile',fontsize=30,fontweight='semibold',color='black')\n",
    "plt.xlabel('GDP',fontweight='semibold',color='black')\n",
    "plt.text(180,79.5,line_equation,fontsize=20,color='darkblue',bbox=box1)\n",
    "plt.text(73,80.5,r_p_value,fontsize=20,color='black',bbox=box2)"
   ]
  },
  {
   "cell_type": "markdown",
   "metadata": {},
   "source": [
    "Conclusion: <br>\n",
    "As expected, there's a pretty strong linearity between GDP and life expectancy for Chile. $r^2$ is 90.2%, indicating that 90.2% of the variation in life expectancy may be explained by GDP. if GDP increases by 1.0e+11 then, life expectancy will increase by around 1.3 years on average. Does this mean we all have to work harder to live longer!!??? "
   ]
  },
  {
   "cell_type": "markdown",
   "metadata": {},
   "source": [
    "<font size = 3.5> Now, I would like to extend my analysis to all six countries and their GDP and life expectancy relationships"
   ]
  },
  {
   "cell_type": "markdown",
   "metadata": {},
   "source": [
    "## c. scatter plot with a regression line of GDP vs life expectancy of the six countries"
   ]
  },
  {
   "cell_type": "code",
   "execution_count": null,
   "metadata": {},
   "outputs": [],
   "source": [
    "#find average life expectancy and GDP by country\n",
    "life_GDP_by_country = life_gdp.groupby('Country',as_index = False).agg({'GDP':\"mean\",'Life_expectancy': \"mean\"})\n",
    "life_GDP_by_country['GDP'] = life_GDP_by_country['GDP']/1e9"
   ]
  },
  {
   "cell_type": "code",
   "execution_count": null,
   "metadata": {},
   "outputs": [],
   "source": [
    "life_GDP_by_country"
   ]
  },
  {
   "cell_type": "code",
   "execution_count": null,
   "metadata": {},
   "outputs": [],
   "source": [
    "#linear regression equation between GDP and life expectancy for all six countries\n",
    "slope, intercept, r_value,p_value,std_err = stats.linregress(life_GDP_by_country.GDP,life_GDP_by_country.Life_expectancy)\n",
    "\n",
    "#create text variables for linear equation, r and p-value\n",
    "line_equation = f'y= {slope}x + {intercept:.0f}'\n",
    "r_p_value = f\"\"\"P value = {p_value:.4f} \n",
    "R squared = {r_value**2:.4f}\"\"\"\n",
    "\n",
    "#create x\n",
    "x = [*range(0,20000,1000)]\n",
    "y = [x1*slope + intercept for x1 in x]\n",
    "\n",
    "\n",
    "#textbox properties\n",
    "box1 = dict(boxstyle='round', facecolor='white', alpha=1)\n",
    "box2 = dict(boxstyle='round', facecolor='whitesmoke', alpha=.5)\n",
    "\n",
    "ax,fig = plt.subplots(figsize = (15,10))\n",
    "pl = sns.scatterplot(data = life_GDP_by_country, x='GDP', y='Life_expectancy',hue='Country',s=1000)\n",
    "sns.lineplot(x,y,color='black' )\n",
    "for line in range(0,life_GDP_by_country.shape[0]):\n",
    "    pl.text(life_GDP_by_country.GDP[line]+0.2,life_GDP_by_country.Life_expectancy[line],life_GDP_by_country.Country[line],horizontalalignment='left',size='medium',color='black',weight='semibold')\n",
    "plt.text(2250,70,line_equation,fontsize=20,color='darkblue',bbox=box1)\n",
    "plt.text(13800,60,r_p_value,fontsize=20,color='black',bbox=box2)\n",
    "    "
   ]
  },
  {
   "cell_type": "markdown",
   "metadata": {},
   "source": [
    "# Conclusion: <br>\n",
    "The above scatter plot does not show a strong linear relationship ($r^2$ is only 12.4%). I can construct a hypothesis that  two factors affected such result. <br><br> 1. GDP, Gross Domestic product, might not be a good variable to use since it is defined as the sum of each individual's income or production whereas life expectancy is defined as the average of each individual's life expectancy. I feel like this is not apple to apple. <br><br> 2. Zimbabwe looks like an outlier. <br><br> I will try to work around these two factors to find if its linearity improves."
   ]
  },
  {
   "cell_type": "markdown",
   "metadata": {},
   "source": [
    "## c. scatter plot of GDP per capita against life expectancy on average of the six countries\n",
    "<font size = 3.5> I would like to use GDP per capita (GDP/population) instead of GDP"
   ]
  },
  {
   "cell_type": "code",
   "execution_count": null,
   "metadata": {},
   "outputs": [],
   "source": [
    "life_GDP_by_country['GDP'] = life_GDP_by_country['GDP']*1e9"
   ]
  },
  {
   "cell_type": "code",
   "execution_count": null,
   "metadata": {},
   "outputs": [],
   "source": [
    "life_GDP_by_country"
   ]
  },
  {
   "cell_type": "code",
   "execution_count": null,
   "metadata": {},
   "outputs": [],
   "source": [
    "#create a column: population\n",
    "life_GDP_by_country['population'] = [18730000,1393000000,83020000,126000000,328200000,14000000]"
   ]
  },
  {
   "cell_type": "code",
   "execution_count": null,
   "metadata": {},
   "outputs": [],
   "source": [
    "#craete a column: GDP per capita\n",
    "life_GDP_by_country['GDP_per_capita'] = life_GDP_by_country['GDP']/life_GDP_by_country['population'] "
   ]
  },
  {
   "cell_type": "code",
   "execution_count": null,
   "metadata": {},
   "outputs": [],
   "source": [
    "#plot GDP per capita against life_expectancy\n",
    "slope, intercept, r_value,p_value,std_err = stats.linregress(life_GDP_by_country['GDP_per_capita'],life_GDP_by_country['Life_expectancy'])\n",
    "\n",
    "#create text variables for linear equation, r and p-value\n",
    "line_equation = f'y= {slope}x + {intercept:.0f}'\n",
    "r_p_value = f\"\"\"P value = {p_value:.4f} \n",
    "R squared = {r_value**2:.4f}\"\"\"\n",
    "\n",
    "#create x for linear equation\n",
    "x = [*range(0,50000,1000)]\n",
    "y = [x1*slope + intercept for x1 in x]\n",
    "\n",
    "\n",
    "ax,fig = plt.subplots(figsize = (15,10))\n",
    "pl = sns.scatterplot(data = life_GDP_by_country, x='GDP_per_capita', y='Life_expectancy',hue='Country', size = 'population',sizes = (200,700),palette = 'pastel')\n",
    "sns.lineplot(x,y,color='black' )\n",
    "for line in range(0,life_GDP_by_country.shape[0]):\n",
    "    pl.text(life_GDP_by_country.GDP_per_capita[line]+0.2,life_GDP_by_country.Life_expectancy[line],life_GDP_by_country.Country[line],horizontalalignment='left',size='medium',color='black',weight='semibold')\n",
    "plt.text(24300,73.5,line_equation,fontsize=20,color='darkblue',bbox=box1)\n",
    "plt.text(22000,50,r_p_value,fontsize=20,color='black',bbox=box2)\n"
   ]
  },
  {
   "cell_type": "markdown",
   "metadata": {},
   "source": [
    "Conclusion: <br> Visually, there's not much improvement from the previous graph. However, $r^2$ and p-value were increased a lot. How about taking out Zimbabwe from the dataset."
   ]
  },
  {
   "cell_type": "markdown",
   "metadata": {},
   "source": [
    "## d. Scatter plot of GDP against life expectancy on average of the six countries minus Zimbabwe"
   ]
  },
  {
   "cell_type": "code",
   "execution_count": null,
   "metadata": {},
   "outputs": [],
   "source": [
    "#Select data without Zimbabwe \n",
    "life_GDP_by_country2 = life_GDP_by_country[life_GDP_by_country['Country'].isin(['Zimbabwe']) == False ]"
   ]
  },
  {
   "cell_type": "code",
   "execution_count": null,
   "metadata": {},
   "outputs": [],
   "source": [
    "#display data\n",
    "life_GDP_by_country2"
   ]
  },
  {
   "cell_type": "code",
   "execution_count": null,
   "metadata": {
    "scrolled": false
   },
   "outputs": [],
   "source": [
    "#plot GDP against life_expectancy\n",
    "slope, intercept, r_value,p_value,std_err = stats.linregress(life_GDP_by_country2.GDP_per_capita,life_GDP_by_country2.Life_expectancy)\n",
    "\n",
    "#create text variables for line equation, r and p-value\n",
    "line_equation = f'y= {slope}x + {intercept:.0f}'\n",
    "r_p_value = f\"\"\"P value = {p_value:.4f} \n",
    "R squared = {r_value**2:.3f}\"\"\"\n",
    "\n",
    "#create x for linear equation\n",
    "x = [*range(0,50000,10)]\n",
    "y = [x1*slope + intercept for x1 in x]\n",
    "ax,fig = plt.subplots(figsize = (15,10))\n",
    "pl = sns.scatterplot(data = life_GDP_by_country2, x='GDP_per_capita', y='Life_expectancy',hue='Country', size = 'population',sizes = (20,700),palette = 'pastel')\n",
    "sns.lineplot(x,y,color='black' )\n",
    "for line in range(0,life_GDP_by_country2.shape[0]):\n",
    "    pl.text(life_GDP_by_country2.GDP_per_capita[line]+0.2,life_GDP_by_country.Life_expectancy[line],life_GDP_by_country.Country[line],horizontalalignment='left',size='medium',color='black',weight='semibold')\n",
    "\n",
    "plt.text(15000,76.6,line_equation,fontsize=20,color='darkblue',bbox=box1)\n",
    "plt.text(23500,74.3,r_p_value,fontsize=20,color='black',bbox=box2)  "
   ]
  },
  {
   "cell_type": "markdown",
   "metadata": {},
   "source": [
    "Conclusion: <br>\n",
    "Finally, a stronger positivie linear relationship is more apparent visually and statistically! From my analysis, Zimbabwe data is distant from 5 other countries in terms of life expactany based on its GDP. We can extrapolate that Zimbabwe's life expectancy will be relatively lower than the rest of the world with similar GDPs. This suggests that Zimbabwe needs more aid and attention from non-profit organizations to build a better world. \n",
    "    \n",
    "Further research on 'between continents' would be interesting and informative."
   ]
  },
  {
   "cell_type": "code",
   "execution_count": null,
   "metadata": {},
   "outputs": [],
   "source": []
  }
 ],
 "metadata": {
  "kernelspec": {
   "display_name": "Python 3",
   "language": "python",
   "name": "python3"
  },
  "language_info": {
   "codemirror_mode": {
    "name": "ipython",
    "version": 3
   },
   "file_extension": ".py",
   "mimetype": "text/x-python",
   "name": "python",
   "nbconvert_exporter": "python",
   "pygments_lexer": "ipython3",
   "version": "3.8.5"
  }
 },
 "nbformat": 4,
 "nbformat_minor": 4
}
